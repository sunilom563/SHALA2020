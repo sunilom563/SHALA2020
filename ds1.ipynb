{
  "nbformat": 4,
  "nbformat_minor": 0,
  "metadata": {
    "colab": {
      "name": "ds1.ipynb",
      "provenance": [],
      "collapsed_sections": [],
      "mount_file_id": "1V-3sKVOLH5vgymlK9L5C5utnywyuVH4w",
      "authorship_tag": "ABX9TyN97KC3f/ztHb9NFcu3wFGj",
      "include_colab_link": true
    },
    "kernelspec": {
      "name": "python3",
      "display_name": "Python 3"
    }
  },
  "cells": [
    {
      "cell_type": "markdown",
      "metadata": {
        "id": "view-in-github",
        "colab_type": "text"
      },
      "source": [
        "<a href=\"https://colab.research.google.com/github/sunilom563/SHALA2020/blob/master/ds1.ipynb\" target=\"_parent\"><img src=\"https://colab.research.google.com/assets/colab-badge.svg\" alt=\"Open In Colab\"/></a>"
      ]
    },
    {
      "cell_type": "code",
      "metadata": {
        "id": "LPMqSqtuKT9Z",
        "colab_type": "code",
        "colab": {}
      },
      "source": [
        ""
      ],
      "execution_count": 0,
      "outputs": []
    },
    {
      "cell_type": "markdown",
      "metadata": {
        "id": "HjseToJ3KeIU",
        "colab_type": "text"
      },
      "source": [
        "Part 1  :Numpy\n"
      ]
    },
    {
      "cell_type": "code",
      "metadata": {
        "id": "lKBiS6i2KhFr",
        "colab_type": "code",
        "colab": {}
      },
      "source": [
        "import numpy as np"
      ],
      "execution_count": 0,
      "outputs": []
    },
    {
      "cell_type": "code",
      "metadata": {
        "id": "j4zz5a8XMAwP",
        "colab_type": "code",
        "colab": {
          "base_uri": "https://localhost:8080/",
          "height": 68
        },
        "outputId": "08264e0d-3732-42e7-ca45-22de3d952583"
      },
      "source": [
        "#creating two dim array\n",
        "a=np.array([[1,2,3],[4,5,6]])\n",
        "print(a)\n",
        "print(type(a))"
      ],
      "execution_count": 2,
      "outputs": [
        {
          "output_type": "stream",
          "text": [
            "[[1 2 3]\n",
            " [4 5 6]]\n",
            "<class 'numpy.ndarray'>\n"
          ],
          "name": "stdout"
        }
      ]
    },
    {
      "cell_type": "code",
      "metadata": {
        "id": "UqCs9FHbMu-M",
        "colab_type": "code",
        "colab": {
          "base_uri": "https://localhost:8080/",
          "height": 51
        },
        "outputId": "ad628f2c-b42a-4f37-9093-413a53361072"
      },
      "source": [
        "#assiningg array with complex data type\n",
        "b=np.array([[1,2,3],[4,5,6]],dtype=complex)\n",
        "print(b)"
      ],
      "execution_count": 3,
      "outputs": [
        {
          "output_type": "stream",
          "text": [
            "[[1.+0.j 2.+0.j 3.+0.j]\n",
            " [4.+0.j 5.+0.j 6.+0.j]]\n"
          ],
          "name": "stdout"
        }
      ]
    },
    {
      "cell_type": "code",
      "metadata": {
        "id": "YXCtyqIpNJ1T",
        "colab_type": "code",
        "colab": {
          "base_uri": "https://localhost:8080/",
          "height": 51
        },
        "outputId": "0c7e1341-fd0c-49bf-c55d-225e28a9a6eb"
      },
      "source": [
        "# creating array which contains zero\n",
        "c=np.zeros((2,3))\n",
        "print(c)"
      ],
      "execution_count": 4,
      "outputs": [
        {
          "output_type": "stream",
          "text": [
            "[[0. 0. 0.]\n",
            " [0. 0. 0.]]\n"
          ],
          "name": "stdout"
        }
      ]
    },
    {
      "cell_type": "code",
      "metadata": {
        "id": "hgOdFVbmNK6x",
        "colab_type": "code",
        "colab": {
          "base_uri": "https://localhost:8080/",
          "height": 136
        },
        "outputId": "b1964a6f-b7e4-47d3-bac5-7fddf700149b"
      },
      "source": [
        "#craeting ones\n",
        "d=np.ones((2,3,4),dtype=int) #note its 3dimensional and we have mentioned integer type of our wish\n",
        "print(d)"
      ],
      "execution_count": 5,
      "outputs": [
        {
          "output_type": "stream",
          "text": [
            "[[[1 1 1 1]\n",
            "  [1 1 1 1]\n",
            "  [1 1 1 1]]\n",
            "\n",
            " [[1 1 1 1]\n",
            "  [1 1 1 1]\n",
            "  [1 1 1 1]]]\n"
          ],
          "name": "stdout"
        }
      ]
    },
    {
      "cell_type": "code",
      "metadata": {
        "id": "q8bQJQL6NK9A",
        "colab_type": "code",
        "colab": {
          "base_uri": "https://localhost:8080/",
          "height": 68
        },
        "outputId": "f5aa989a-23a3-4cb7-b6ea-4b6342ce86ab"
      },
      "source": [
        "# creating empty array\n",
        "e=np.empty((3,3)) # it gives any random value\n",
        "print(e)"
      ],
      "execution_count": 6,
      "outputs": [
        {
          "output_type": "stream",
          "text": [
            "[[2.52909912e-316 1.18234573e-316 1.18235126e-316]\n",
            " [1.18235680e-316 1.18236233e-316 1.18236786e-316]\n",
            " [1.18237340e-316 0.00000000e+000 0.00000000e+000]]\n"
          ],
          "name": "stdout"
        }
      ]
    },
    {
      "cell_type": "code",
      "metadata": {
        "id": "FHGdt91ZNK_Q",
        "colab_type": "code",
        "colab": {}
      },
      "source": [
        "#creating a identity matrix \n",
        "f=np.eye(4,5)"
      ],
      "execution_count": 0,
      "outputs": []
    },
    {
      "cell_type": "code",
      "metadata": {
        "id": "DcDZ2zC9NLCP",
        "colab_type": "code",
        "colab": {
          "base_uri": "https://localhost:8080/",
          "height": 85
        },
        "outputId": "3a2a8a96-7853-410f-9916-832751c24731"
      },
      "source": [
        "#create an array with same size of above \"f\"\n",
        "g=np.ones_like(f) #it takes the above argument of row and column and create array\n",
        "print(g)"
      ],
      "execution_count": 8,
      "outputs": [
        {
          "output_type": "stream",
          "text": [
            "[[1. 1. 1. 1. 1.]\n",
            " [1. 1. 1. 1. 1.]\n",
            " [1. 1. 1. 1. 1.]\n",
            " [1. 1. 1. 1. 1.]]\n"
          ],
          "name": "stdout"
        }
      ]
    },
    {
      "cell_type": "code",
      "metadata": {
        "id": "kSiJiaLCNLFC",
        "colab_type": "code",
        "colab": {
          "base_uri": "https://localhost:8080/",
          "height": 68
        },
        "outputId": "4a5180aa-85d7-40a1-9e37-27065a845e09"
      },
      "source": [
        "#create an array filled with inf numbers\n",
        "h=np.full((3,3),np.inf)  #inf=infinte it fulls the array\n",
        "print(h)"
      ],
      "execution_count": 9,
      "outputs": [
        {
          "output_type": "stream",
          "text": [
            "[[inf inf inf]\n",
            " [inf inf inf]\n",
            " [inf inf inf]]\n"
          ],
          "name": "stdout"
        }
      ]
    },
    {
      "cell_type": "code",
      "metadata": {
        "id": "fHSsQ8U0NLHw",
        "colab_type": "code",
        "colab": {
          "base_uri": "https://localhost:8080/",
          "height": 68
        },
        "outputId": "d687d727-86b0-4bd3-fd0f-dbdb4db2eb45"
      },
      "source": [
        "#create 3 dim matrix manually\n",
        "i=np.array([[1,2,3],[4,5,6],[7,8,9]])\n",
        "print(i)"
      ],
      "execution_count": 10,
      "outputs": [
        {
          "output_type": "stream",
          "text": [
            "[[1 2 3]\n",
            " [4 5 6]\n",
            " [7 8 9]]\n"
          ],
          "name": "stdout"
        }
      ]
    },
    {
      "cell_type": "code",
      "metadata": {
        "id": "99LW5Z6JNLKz",
        "colab_type": "code",
        "colab": {}
      },
      "source": [
        "#how to extract diagonal matrix\n",
        "j=np.diag(i) # we get principal diagonal eemnt"
      ],
      "execution_count": 0,
      "outputs": []
    },
    {
      "cell_type": "code",
      "metadata": {
        "id": "-NK3NK-cNLNl",
        "colab_type": "code",
        "colab": {}
      },
      "source": [
        "#find the diagonal above and below of principal diagonal\n",
        "j=np.diag(i,k=1)#gives above principal diagonal\n",
        "j=np.diag(i,k=-1)# gives below"
      ],
      "execution_count": 0,
      "outputs": []
    },
    {
      "cell_type": "code",
      "metadata": {
        "id": "M5MCowUjNLRb",
        "colab_type": "code",
        "colab": {}
      },
      "source": [
        ""
      ],
      "execution_count": 0,
      "outputs": []
    },
    {
      "cell_type": "markdown",
      "metadata": {
        "id": "7bWy8vZRTM8M",
        "colab_type": "text"
      },
      "source": [
        "CREATE A SEQUENCE OF NUMBERS"
      ]
    },
    {
      "cell_type": "code",
      "metadata": {
        "id": "JKLJTa6tTRJC",
        "colab_type": "code",
        "colab": {}
      },
      "source": [
        "#create a sequence of number between 1 to 7 with stepsize 2\n",
        "f=np.arange(1,7,2) # the func arange returns only integer if we want decimal use linspace\n",
        "h=np.linspace(1,7,2)"
      ],
      "execution_count": 0,
      "outputs": []
    },
    {
      "cell_type": "markdown",
      "metadata": {
        "id": "CHKP_jTmuj3o",
        "colab_type": "text"
      },
      "source": [
        "RESHAPE THE ARRAY"
      ]
    },
    {
      "cell_type": "code",
      "metadata": {
        "id": "Jfzv9BmdTRXt",
        "colab_type": "code",
        "colab": {
          "base_uri": "https://localhost:8080/",
          "height": 119
        },
        "outputId": "ddcba1a9-3c2c-4a21-949d-3ab6b0638ec2"
      },
      "source": [
        "#create a vector of 10 elements and respape it into 5,2 array\n",
        "a=np.arange(10)\n",
        "print(a)\n",
        "b=a.reshape(5,2)\n",
        "print(b)"
      ],
      "execution_count": 14,
      "outputs": [
        {
          "output_type": "stream",
          "text": [
            "[0 1 2 3 4 5 6 7 8 9]\n",
            "[[0 1]\n",
            " [2 3]\n",
            " [4 5]\n",
            " [6 7]\n",
            " [8 9]]\n"
          ],
          "name": "stdout"
        }
      ]
    },
    {
      "cell_type": "code",
      "metadata": {
        "id": "LTX9wE3tTRdC",
        "colab_type": "code",
        "colab": {
          "base_uri": "https://localhost:8080/",
          "height": 34
        },
        "outputId": "9684127d-c4de-448c-f53d-b58be6932852"
      },
      "source": [
        "#flatten is converting any array into single dimension vector\n",
        "c=b.flatten()\n",
        "print(c)"
      ],
      "execution_count": 15,
      "outputs": [
        {
          "output_type": "stream",
          "text": [
            "[0 1 2 3 4 5 6 7 8 9]\n"
          ],
          "name": "stdout"
        }
      ]
    },
    {
      "cell_type": "code",
      "metadata": {
        "id": "hXDSJ4hiTRiE",
        "colab_type": "code",
        "colab": {}
      },
      "source": [
        "#create 2*3 array and find its transpose\n",
        "d=np.array([[1,2,3],[4,5,6]])\n",
        "e=d.transpose()   # but its not the case for 3 dimension we must include transpose(0,2,1)"
      ],
      "execution_count": 0,
      "outputs": []
    },
    {
      "cell_type": "code",
      "metadata": {
        "id": "Vc9mC1ZUTRlB",
        "colab_type": "code",
        "colab": {
          "base_uri": "https://localhost:8080/",
          "height": 68
        },
        "outputId": "7fa0ed72-cc9c-45cb-a597-1ac515fcd1e4"
      },
      "source": [
        "#creating 3*2 array with random values\n",
        "np.random.seed(4)     # seed helps  us to remain same random number because when we hit run  button each time , the random value changes of the previous one\n",
        "f=np.random.random_sample((3,2))*5\n",
        "print(f)"
      ],
      "execution_count": 17,
      "outputs": [
        {
          "output_type": "stream",
          "text": [
            "[[4.8351492  2.73616125]\n",
            " [4.8634218  3.57407997]\n",
            " [3.48864412 1.08044748]]\n"
          ],
          "name": "stdout"
        }
      ]
    },
    {
      "cell_type": "code",
      "metadata": {
        "id": "t40jD54tTRoE",
        "colab_type": "code",
        "colab": {
          "base_uri": "https://localhost:8080/",
          "height": 68
        },
        "outputId": "fe5fbf81-9894-4a39-baab-901e90a50403"
      },
      "source": [
        "#findin the minimum number in the array   and same for max func also\n",
        "print(\"min(f)={}\".format(np.min(f)))\n",
        "print(\"argmin(f)={}\".format(np.argmin(f)))   #argmin gives the index \n",
        "print(\"min of row1 and row2 = {}\".format(np.minimum(a[1],a[2])))"
      ],
      "execution_count": 18,
      "outputs": [
        {
          "output_type": "stream",
          "text": [
            "min(f)=1.080447477901882\n",
            "argmin(f)=5\n",
            "min of row1 and row2 = 1\n"
          ],
          "name": "stdout"
        }
      ]
    },
    {
      "cell_type": "markdown",
      "metadata": {
        "id": "V2AuRC3b1aby",
        "colab_type": "text"
      },
      "source": [
        "STATISTICAL MEASURES"
      ]
    },
    {
      "cell_type": "code",
      "metadata": {
        "id": "7hPFdVWJTRy0",
        "colab_type": "code",
        "colab": {
          "base_uri": "https://localhost:8080/",
          "height": 34
        },
        "outputId": "67aedf9f-fa02-42bd-cc0d-e8228ca8de95"
      },
      "source": [
        "# means , meadian and mode\n",
        "print(\"mean(f)={}\".format(np.mean(f)))    #we are not giving any axis here so it gives mean to entire axis\n",
        "#similarly for median,var"
      ],
      "execution_count": 19,
      "outputs": [
        {
          "output_type": "stream",
          "text": [
            "mean(f)=3.429650635005246\n"
          ],
          "name": "stdout"
        }
      ]
    },
    {
      "cell_type": "markdown",
      "metadata": {
        "id": "Qikx0GqC2Srz",
        "colab_type": "text"
      },
      "source": [
        "LINEAR ALGEBRA"
      ]
    },
    {
      "cell_type": "code",
      "metadata": {
        "id": "L3bnYWdFTR4k",
        "colab_type": "code",
        "colab": {
          "base_uri": "https://localhost:8080/",
          "height": 68
        },
        "outputId": "38da442a-13cb-4759-cc68-5ea353e2c4d5"
      },
      "source": [
        "# create a square matrix\n",
        "a=np.random.random_sample((3,3))\n",
        "b=np.exp(a)  # exponential of a , just for understanding that we can use exponential\n",
        "print(b)"
      ],
      "execution_count": 20,
      "outputs": [
        {
          "output_type": "stream",
          "text": [
            "[[2.65454816 1.0062497  1.28786056]\n",
            " [1.54464102 2.18012654 1.21857857]\n",
            " [2.37024479 2.67353262 1.17802846]]\n"
          ],
          "name": "stdout"
        }
      ]
    },
    {
      "cell_type": "code",
      "metadata": {
        "id": "P1joHDDkTR8e",
        "colab_type": "code",
        "colab": {}
      },
      "source": [
        "# compute rank,determinant , trace of the b\n",
        "det=np.linalg.det(b)\n",
        "rank=np.linalg.matrix_rank(b)\n",
        "trace=np.trace(b)"
      ],
      "execution_count": 0,
      "outputs": []
    },
    {
      "cell_type": "code",
      "metadata": {
        "id": "jCXcuyWITRwx",
        "colab_type": "code",
        "colab": {
          "base_uri": "https://localhost:8080/",
          "height": 85
        },
        "outputId": "7fb9b2ad-9e58-449f-ef0c-751302823c2b"
      },
      "source": [
        "# find the eigen vale and eigen vector\n",
        "eig_val,eig_vect=np.linalg.eig(b)\n",
        "print(eig_val)\n",
        "print(eig_vect)"
      ],
      "execution_count": 22,
      "outputs": [
        {
          "output_type": "stream",
          "text": [
            "[ 5.24724458  1.12106777 -0.35560919]\n",
            "[[-0.53322204 -0.70299507 -0.30771442]\n",
            " [-0.53038626  0.61566129 -0.25330014]\n",
            " [-0.65906348  0.35603246  0.91714278]]\n"
          ],
          "name": "stdout"
        }
      ]
    },
    {
      "cell_type": "code",
      "metadata": {
        "id": "UFiD3jDHTRsS",
        "colab_type": "code",
        "colab": {
          "base_uri": "https://localhost:8080/",
          "height": 136
        },
        "outputId": "d139d651-4576-4288-fc69-e314e71ddd03"
      },
      "source": [
        "# implementing SVD(singular value decompostition)\n",
        "u,v,sT=np.linalg.svd(b)\n",
        "print(u)\n",
        "print(v);print(sT)"
      ],
      "execution_count": 23,
      "outputs": [
        {
          "output_type": "stream",
          "text": [
            "[[-0.5280198   0.84062547 -0.12059811]\n",
            " [-0.51833562 -0.43150348 -0.73833118]\n",
            " [-0.6726985  -0.32734319  0.6635685 ]]\n",
            "[5.55095546 1.2620916  0.29859156]\n",
            "[[-0.68398253 -0.623287   -0.37905304]\n",
            " [ 0.62521559 -0.76857792  0.13562242]\n",
            " [ 0.37586349  0.14422651 -0.91538263]]\n"
          ],
          "name": "stdout"
        }
      ]
    },
    {
      "cell_type": "code",
      "metadata": {
        "id": "mT3ONhM2TRgf",
        "colab_type": "code",
        "colab": {
          "base_uri": "https://localhost:8080/",
          "height": 170
        },
        "outputId": "4ce4a78a-f265-4cd2-b49f-8794376d0d8b"
      },
      "source": [
        "#genterate two arrays and compute there dot product\n",
        "a=np.array([[1,2],[3,4]])\n",
        "b=np.array([[11,12],[13,14]])\n",
        "c=np.dot(a,b)   \n",
        "print(\"the dot product of a and b is \\n:{}\".format(c))\n",
        "d=np.matmul(a,b)  \n",
        "print(\"the dot product of a and b is \\n:{}\".format(d))\n",
        "print(\"the dot product of a and b is \\n:{}\".format(a*b))"
      ],
      "execution_count": 24,
      "outputs": [
        {
          "output_type": "stream",
          "text": [
            "the dot product of a and b is \n",
            ":[[37 40]\n",
            " [85 92]]\n",
            "the dot product of a and b is \n",
            ":[[37 40]\n",
            " [85 92]]\n",
            "the dot product of a and b is \n",
            ":[[11 24]\n",
            " [39 56]]\n"
          ],
          "name": "stdout"
        }
      ]
    },
    {
      "cell_type": "code",
      "metadata": {
        "id": "U8rA8F8YTRa3",
        "colab_type": "code",
        "colab": {}
      },
      "source": [
        "#arra inverse and pseudo inverse\n",
        "e=np.linalg.inv(a)\n",
        "f=np.linalg.pinv(a)"
      ],
      "execution_count": 0,
      "outputs": []
    },
    {
      "cell_type": "code",
      "metadata": {
        "id": "aQPZ8tpmOD8B",
        "colab_type": "code",
        "colab": {}
      },
      "source": [
        ""
      ],
      "execution_count": 0,
      "outputs": []
    },
    {
      "cell_type": "markdown",
      "metadata": {
        "id": "GhQM9lj8QE0w",
        "colab_type": "text"
      },
      "source": [
        "PART 2 PANDAS\n"
      ]
    },
    {
      "cell_type": "code",
      "metadata": {
        "id": "GewIEfg4OD--",
        "colab_type": "code",
        "colab": {
          "base_uri": "https://localhost:8080/",
          "height": 142
        },
        "outputId": "c100f9d4-cf61-47c1-f8f8-99330e50ab34"
      },
      "source": [
        "import pandas as pd\n",
        "df=pd.DataFrame({'name':[\"sun\",\"ann\",\"psd\"],'age':[23,33,22],\"ssex\":[\"male\",\"male\",\"female\"]})\n",
        "df\n"
      ],
      "execution_count": 8,
      "outputs": [
        {
          "output_type": "execute_result",
          "data": {
            "text/html": [
              "<div>\n",
              "<style scoped>\n",
              "    .dataframe tbody tr th:only-of-type {\n",
              "        vertical-align: middle;\n",
              "    }\n",
              "\n",
              "    .dataframe tbody tr th {\n",
              "        vertical-align: top;\n",
              "    }\n",
              "\n",
              "    .dataframe thead th {\n",
              "        text-align: right;\n",
              "    }\n",
              "</style>\n",
              "<table border=\"1\" class=\"dataframe\">\n",
              "  <thead>\n",
              "    <tr style=\"text-align: right;\">\n",
              "      <th></th>\n",
              "      <th>name</th>\n",
              "      <th>age</th>\n",
              "      <th>ssex</th>\n",
              "    </tr>\n",
              "  </thead>\n",
              "  <tbody>\n",
              "    <tr>\n",
              "      <th>0</th>\n",
              "      <td>sun</td>\n",
              "      <td>23</td>\n",
              "      <td>male</td>\n",
              "    </tr>\n",
              "    <tr>\n",
              "      <th>1</th>\n",
              "      <td>ann</td>\n",
              "      <td>33</td>\n",
              "      <td>male</td>\n",
              "    </tr>\n",
              "    <tr>\n",
              "      <th>2</th>\n",
              "      <td>psd</td>\n",
              "      <td>22</td>\n",
              "      <td>female</td>\n",
              "    </tr>\n",
              "  </tbody>\n",
              "</table>\n",
              "</div>"
            ],
            "text/plain": [
              "  name  age    ssex\n",
              "0  sun   23    male\n",
              "1  ann   33    male\n",
              "2  psd   22  female"
            ]
          },
          "metadata": {
            "tags": []
          },
          "execution_count": 8
        }
      ]
    },
    {
      "cell_type": "code",
      "metadata": {
        "id": "ysN0wKgSOEB2",
        "colab_type": "code",
        "colab": {
          "base_uri": "https://localhost:8080/",
          "height": 34
        },
        "outputId": "b123d5ef-adaf-497f-923a-3868f37d46d3"
      },
      "source": [
        "#we can acces df\n",
        "df['name']\n",
        "df[\"age\"].max()"
      ],
      "execution_count": 27,
      "outputs": [
        {
          "output_type": "execute_result",
          "data": {
            "text/plain": [
              "33"
            ]
          },
          "metadata": {
            "tags": []
          },
          "execution_count": 27
        }
      ]
    },
    {
      "cell_type": "code",
      "metadata": {
        "id": "gJ1ssrRLOEGF",
        "colab_type": "code",
        "colab": {
          "base_uri": "https://localhost:8080/",
          "height": 297
        },
        "outputId": "34d5e403-76b3-48fa-c141-b13d7a459e61"
      },
      "source": [
        "# describe will give quick details of the dataframe (all statistical information)\n",
        "df.describe()"
      ],
      "execution_count": 28,
      "outputs": [
        {
          "output_type": "execute_result",
          "data": {
            "text/html": [
              "<div>\n",
              "<style scoped>\n",
              "    .dataframe tbody tr th:only-of-type {\n",
              "        vertical-align: middle;\n",
              "    }\n",
              "\n",
              "    .dataframe tbody tr th {\n",
              "        vertical-align: top;\n",
              "    }\n",
              "\n",
              "    .dataframe thead th {\n",
              "        text-align: right;\n",
              "    }\n",
              "</style>\n",
              "<table border=\"1\" class=\"dataframe\">\n",
              "  <thead>\n",
              "    <tr style=\"text-align: right;\">\n",
              "      <th></th>\n",
              "      <th>age</th>\n",
              "    </tr>\n",
              "  </thead>\n",
              "  <tbody>\n",
              "    <tr>\n",
              "      <th>count</th>\n",
              "      <td>3.000000</td>\n",
              "    </tr>\n",
              "    <tr>\n",
              "      <th>mean</th>\n",
              "      <td>26.000000</td>\n",
              "    </tr>\n",
              "    <tr>\n",
              "      <th>std</th>\n",
              "      <td>6.082763</td>\n",
              "    </tr>\n",
              "    <tr>\n",
              "      <th>min</th>\n",
              "      <td>22.000000</td>\n",
              "    </tr>\n",
              "    <tr>\n",
              "      <th>25%</th>\n",
              "      <td>22.500000</td>\n",
              "    </tr>\n",
              "    <tr>\n",
              "      <th>50%</th>\n",
              "      <td>23.000000</td>\n",
              "    </tr>\n",
              "    <tr>\n",
              "      <th>75%</th>\n",
              "      <td>28.000000</td>\n",
              "    </tr>\n",
              "    <tr>\n",
              "      <th>max</th>\n",
              "      <td>33.000000</td>\n",
              "    </tr>\n",
              "  </tbody>\n",
              "</table>\n",
              "</div>"
            ],
            "text/plain": [
              "             age\n",
              "count   3.000000\n",
              "mean   26.000000\n",
              "std     6.082763\n",
              "min    22.000000\n",
              "25%    22.500000\n",
              "50%    23.000000\n",
              "75%    28.000000\n",
              "max    33.000000"
            ]
          },
          "metadata": {
            "tags": []
          },
          "execution_count": 28
        }
      ]
    },
    {
      "cell_type": "code",
      "metadata": {
        "id": "O08gvt3oOEL5",
        "colab_type": "code",
        "colab": {}
      },
      "source": [
        "# connecting colab to google drive or extracting the csv files\n"
      ],
      "execution_count": 0,
      "outputs": []
    },
    {
      "cell_type": "code",
      "metadata": {
        "id": "GMjNEvy7OESQ",
        "colab_type": "code",
        "colab": {}
      },
      "source": [
        ""
      ],
      "execution_count": 0,
      "outputs": []
    },
    {
      "cell_type": "code",
      "metadata": {
        "id": "xzi5rWO4yuv6",
        "colab_type": "code",
        "colab": {
          "base_uri": "https://localhost:8080/",
          "height": 122
        },
        "outputId": "f134c2d0-a91f-4085-eb45-678ae2304ffa"
      },
      "source": [
        "from google.colab import drive\n",
        "drive.mount('/gdrive')   # note sunil after running this code click mount button to mount it"
      ],
      "execution_count": 30,
      "outputs": [
        {
          "output_type": "stream",
          "text": [
            "Go to this URL in a browser: https://accounts.google.com/o/oauth2/auth?client_id=947318989803-6bn6qk8qdgf4n4g3pfee6491hc0brc4i.apps.googleusercontent.com&redirect_uri=urn%3aietf%3awg%3aoauth%3a2.0%3aoob&response_type=code&scope=email%20https%3a%2f%2fwww.googleapis.com%2fauth%2fdocs.test%20https%3a%2f%2fwww.googleapis.com%2fauth%2fdrive%20https%3a%2f%2fwww.googleapis.com%2fauth%2fdrive.photos.readonly%20https%3a%2f%2fwww.googleapis.com%2fauth%2fpeopleapi.readonly\n",
            "\n",
            "Enter your authorization code:\n",
            "··········\n",
            "Mounted at /gdrive\n"
          ],
          "name": "stdout"
        }
      ]
    },
    {
      "cell_type": "code",
      "metadata": {
        "id": "kc0r2uIWy93D",
        "colab_type": "code",
        "colab": {
          "base_uri": "https://localhost:8080/",
          "height": 34
        },
        "outputId": "7935ab50-9182-4a65-dd23-58c8d356e65c"
      },
      "source": [
        "%ls"
      ],
      "execution_count": 3,
      "outputs": [
        {
          "output_type": "stream",
          "text": [
            "\u001b[0m\u001b[01;34mdrive\u001b[0m/  \u001b[01;34msample_data\u001b[0m/\n"
          ],
          "name": "stdout"
        }
      ]
    },
    {
      "cell_type": "code",
      "metadata": {
        "id": "tBjvv72uy-Gu",
        "colab_type": "code",
        "colab": {
          "base_uri": "https://localhost:8080/",
          "height": 34
        },
        "outputId": "d9ab45ea-e18f-4d87-9480-e44114eebe21"
      },
      "source": [
        "%cd 'drive/'"
      ],
      "execution_count": 4,
      "outputs": [
        {
          "output_type": "stream",
          "text": [
            "/content/drive\n"
          ],
          "name": "stdout"
        }
      ]
    },
    {
      "cell_type": "code",
      "metadata": {
        "id": "Ux2In2530Q5R",
        "colab_type": "code",
        "colab": {
          "base_uri": "https://localhost:8080/",
          "height": 34
        },
        "outputId": "51f469c5-4c97-43ff-84b8-87520b720407"
      },
      "source": [
        "%cd 'My Drive'"
      ],
      "execution_count": 5,
      "outputs": [
        {
          "output_type": "stream",
          "text": [
            "/content/drive/My Drive\n"
          ],
          "name": "stdout"
        }
      ]
    },
    {
      "cell_type": "code",
      "metadata": {
        "id": "2S9CRgGH0Q9i",
        "colab_type": "code",
        "colab": {
          "base_uri": "https://localhost:8080/",
          "height": 34
        },
        "outputId": "d694d747-a978-4a9f-efc9-891961d9fc80"
      },
      "source": [
        "%ls"
      ],
      "execution_count": 6,
      "outputs": [
        {
          "output_type": "stream",
          "text": [
            "\u001b[0m\u001b[01;34m'Colab Notebooks'\u001b[0m/   customer.csv  'Getting started.pdf'\n"
          ],
          "name": "stdout"
        }
      ]
    },
    {
      "cell_type": "code",
      "metadata": {
        "id": "OZrrqISL0RPY",
        "colab_type": "code",
        "colab": {
          "base_uri": "https://localhost:8080/",
          "height": 204
        },
        "outputId": "17a2027f-7c6b-45c7-bbb1-d9185f7d01d9"
      },
      "source": [
        "customer=pd.read_csv(\"customer.csv\")\n",
        "customer.head()"
      ],
      "execution_count": 13,
      "outputs": [
        {
          "output_type": "execute_result",
          "data": {
            "text/html": [
              "<div>\n",
              "<style scoped>\n",
              "    .dataframe tbody tr th:only-of-type {\n",
              "        vertical-align: middle;\n",
              "    }\n",
              "\n",
              "    .dataframe tbody tr th {\n",
              "        vertical-align: top;\n",
              "    }\n",
              "\n",
              "    .dataframe thead th {\n",
              "        text-align: right;\n",
              "    }\n",
              "</style>\n",
              "<table border=\"1\" class=\"dataframe\">\n",
              "  <thead>\n",
              "    <tr style=\"text-align: right;\">\n",
              "      <th></th>\n",
              "      <th>permalink</th>\n",
              "      <th>company</th>\n",
              "      <th>numEmps</th>\n",
              "      <th>category</th>\n",
              "      <th>city</th>\n",
              "      <th>state</th>\n",
              "      <th>fundedDate</th>\n",
              "      <th>raisedAmt</th>\n",
              "      <th>raisedCurrency</th>\n",
              "      <th>round</th>\n",
              "    </tr>\n",
              "  </thead>\n",
              "  <tbody>\n",
              "    <tr>\n",
              "      <th>0</th>\n",
              "      <td>lifelock</td>\n",
              "      <td>LifeLock</td>\n",
              "      <td>NaN</td>\n",
              "      <td>web</td>\n",
              "      <td>Tempe</td>\n",
              "      <td>AZ</td>\n",
              "      <td>1-May-07</td>\n",
              "      <td>6850000</td>\n",
              "      <td>USD</td>\n",
              "      <td>b</td>\n",
              "    </tr>\n",
              "    <tr>\n",
              "      <th>1</th>\n",
              "      <td>lifelock</td>\n",
              "      <td>LifeLock</td>\n",
              "      <td>NaN</td>\n",
              "      <td>web</td>\n",
              "      <td>Tempe</td>\n",
              "      <td>AZ</td>\n",
              "      <td>1-Oct-06</td>\n",
              "      <td>6000000</td>\n",
              "      <td>USD</td>\n",
              "      <td>a</td>\n",
              "    </tr>\n",
              "    <tr>\n",
              "      <th>2</th>\n",
              "      <td>lifelock</td>\n",
              "      <td>LifeLock</td>\n",
              "      <td>NaN</td>\n",
              "      <td>web</td>\n",
              "      <td>Tempe</td>\n",
              "      <td>AZ</td>\n",
              "      <td>1-Jan-08</td>\n",
              "      <td>25000000</td>\n",
              "      <td>USD</td>\n",
              "      <td>c</td>\n",
              "    </tr>\n",
              "    <tr>\n",
              "      <th>3</th>\n",
              "      <td>mycityfaces</td>\n",
              "      <td>MyCityFaces</td>\n",
              "      <td>7.0</td>\n",
              "      <td>web</td>\n",
              "      <td>Scottsdale</td>\n",
              "      <td>AZ</td>\n",
              "      <td>1-Jan-08</td>\n",
              "      <td>50000</td>\n",
              "      <td>USD</td>\n",
              "      <td>seed</td>\n",
              "    </tr>\n",
              "    <tr>\n",
              "      <th>4</th>\n",
              "      <td>flypaper</td>\n",
              "      <td>Flypaper</td>\n",
              "      <td>NaN</td>\n",
              "      <td>web</td>\n",
              "      <td>Phoenix</td>\n",
              "      <td>AZ</td>\n",
              "      <td>1-Feb-08</td>\n",
              "      <td>3000000</td>\n",
              "      <td>USD</td>\n",
              "      <td>a</td>\n",
              "    </tr>\n",
              "  </tbody>\n",
              "</table>\n",
              "</div>"
            ],
            "text/plain": [
              "     permalink      company  numEmps  ... raisedAmt raisedCurrency round\n",
              "0     lifelock     LifeLock      NaN  ...   6850000            USD     b\n",
              "1     lifelock     LifeLock      NaN  ...   6000000            USD     a\n",
              "2     lifelock     LifeLock      NaN  ...  25000000            USD     c\n",
              "3  mycityfaces  MyCityFaces      7.0  ...     50000            USD  seed\n",
              "4     flypaper     Flypaper      NaN  ...   3000000            USD     a\n",
              "\n",
              "[5 rows x 10 columns]"
            ]
          },
          "metadata": {
            "tags": []
          },
          "execution_count": 13
        }
      ]
    },
    {
      "cell_type": "code",
      "metadata": {
        "id": "G1L1TLMg0Reo",
        "colab_type": "code",
        "colab": {
          "base_uri": "https://localhost:8080/",
          "height": 306
        },
        "outputId": "93e71517-d861-4ad4-8356-da3d139529b7"
      },
      "source": [
        "customer.info()"
      ],
      "execution_count": 12,
      "outputs": [
        {
          "output_type": "stream",
          "text": [
            "<class 'pandas.core.frame.DataFrame'>\n",
            "RangeIndex: 1460 entries, 0 to 1459\n",
            "Data columns (total 10 columns):\n",
            " #   Column          Non-Null Count  Dtype  \n",
            "---  ------          --------------  -----  \n",
            " 0   permalink       1460 non-null   object \n",
            " 1   company         1460 non-null   object \n",
            " 2   numEmps         567 non-null    float64\n",
            " 3   category        1436 non-null   object \n",
            " 4   city            1442 non-null   object \n",
            " 5   state           1460 non-null   object \n",
            " 6   fundedDate      1460 non-null   object \n",
            " 7   raisedAmt       1460 non-null   int64  \n",
            " 8   raisedCurrency  1460 non-null   object \n",
            " 9   round           1460 non-null   object \n",
            "dtypes: float64(1), int64(1), object(8)\n",
            "memory usage: 114.2+ KB\n"
          ],
          "name": "stdout"
        }
      ]
    },
    {
      "cell_type": "code",
      "metadata": {
        "id": "_DMaJDY40Rum",
        "colab_type": "code",
        "colab": {}
      },
      "source": [
        "customer.company # gives all the column in gender \n",
        "a=customer['company'] # or instead of above method we can use this also\n",
        "a.head()\n",
        "b=customer[['company','category']]  #for multiple columns we can use this"
      ],
      "execution_count": 0,
      "outputs": []
    },
    {
      "cell_type": "code",
      "metadata": {
        "id": "VI6Fu4HN0Q13",
        "colab_type": "code",
        "colab": {
          "base_uri": "https://localhost:8080/",
          "height": 34
        },
        "outputId": "92031554-6d13-4fe7-ab78-90dc885afda6"
      },
      "source": [
        "customer.shape"
      ],
      "execution_count": 18,
      "outputs": [
        {
          "output_type": "execute_result",
          "data": {
            "text/plain": [
              "(1460, 10)"
            ]
          },
          "metadata": {
            "tags": []
          },
          "execution_count": 18
        }
      ]
    },
    {
      "cell_type": "code",
      "metadata": {
        "id": "_B6t9Axk5NOY",
        "colab_type": "code",
        "colab": {}
      },
      "source": [
        "b=customer[customer['raisedAmt']>60000000] # we get the column of the customer whose amount raised above"
      ],
      "execution_count": 0,
      "outputs": []
    },
    {
      "cell_type": "code",
      "metadata": {
        "id": "OTDwricZ5Nbt",
        "colab_type": "code",
        "colab": {}
      },
      "source": [
        "b=customer.loc[customer['raisedAmt']>60000000,'round'] # same above with addition we get name also"
      ],
      "execution_count": 0,
      "outputs": []
    },
    {
      "cell_type": "code",
      "metadata": {
        "id": "cmCY8QCt6EdB",
        "colab_type": "code",
        "colab": {
          "base_uri": "https://localhost:8080/",
          "height": 142
        },
        "outputId": "7eaa81e1-5b1b-438a-ddf9-c9e1ee098021"
      },
      "source": [
        "c=customer.iloc[0:3,0:2]  # the basic difference between loc and iloc is , in loc we use boolean or labels to mention row, but in iloc we use integers\n",
        "c"
      ],
      "execution_count": 27,
      "outputs": [
        {
          "output_type": "execute_result",
          "data": {
            "text/html": [
              "<div>\n",
              "<style scoped>\n",
              "    .dataframe tbody tr th:only-of-type {\n",
              "        vertical-align: middle;\n",
              "    }\n",
              "\n",
              "    .dataframe tbody tr th {\n",
              "        vertical-align: top;\n",
              "    }\n",
              "\n",
              "    .dataframe thead th {\n",
              "        text-align: right;\n",
              "    }\n",
              "</style>\n",
              "<table border=\"1\" class=\"dataframe\">\n",
              "  <thead>\n",
              "    <tr style=\"text-align: right;\">\n",
              "      <th></th>\n",
              "      <th>permalink</th>\n",
              "      <th>company</th>\n",
              "    </tr>\n",
              "  </thead>\n",
              "  <tbody>\n",
              "    <tr>\n",
              "      <th>0</th>\n",
              "      <td>lifelock</td>\n",
              "      <td>LifeLock</td>\n",
              "    </tr>\n",
              "    <tr>\n",
              "      <th>1</th>\n",
              "      <td>lifelock</td>\n",
              "      <td>LifeLock</td>\n",
              "    </tr>\n",
              "    <tr>\n",
              "      <th>2</th>\n",
              "      <td>lifelock</td>\n",
              "      <td>LifeLock</td>\n",
              "    </tr>\n",
              "  </tbody>\n",
              "</table>\n",
              "</div>"
            ],
            "text/plain": [
              "  permalink   company\n",
              "0  lifelock  LifeLock\n",
              "1  lifelock  LifeLock\n",
              "2  lifelock  LifeLock"
            ]
          },
          "metadata": {
            "tags": []
          },
          "execution_count": 27
        }
      ]
    },
    {
      "cell_type": "markdown",
      "metadata": {
        "id": "sBTK4iKozzHP",
        "colab_type": "text"
      },
      "source": [
        "**PLOTTING**"
      ]
    },
    {
      "cell_type": "code",
      "metadata": {
        "id": "aEQxnjpuy-MD",
        "colab_type": "code",
        "colab": {
          "base_uri": "https://localhost:8080/",
          "height": 293
        },
        "outputId": "31294a65-bd8a-4938-f402-398ba1b39275"
      },
      "source": [
        "import matplotlib.pyplot as plt\n",
        "customer.plot() # it plots numemps and raisedamt withot initializing\n",
        "# here we plotted every posiible columns"
      ],
      "execution_count": 30,
      "outputs": [
        {
          "output_type": "execute_result",
          "data": {
            "text/plain": [
              "<matplotlib.axes._subplots.AxesSubplot at 0x7f30f65f2cc0>"
            ]
          },
          "metadata": {
            "tags": []
          },
          "execution_count": 30
        },
        {
          "output_type": "display_data",
          "data": {
            "image/png": "[encoded data removed]",
            "text/plain": [
              "<Figure size 432x288 with 1 Axes>"
            ]
          },
          "metadata": {
            "tags": [],
            "needs_background": "light"
          }
        }
      ]
    },
    {
      "cell_type": "code",
      "metadata": {
        "id": "ioemoxsEy-SF",
        "colab_type": "code",
        "colab": {}
      },
      "source": [
        "customer['raisedAmt'].plot() #plotting particular column"
      ],
      "execution_count": 0,
      "outputs": []
    },
    {
      "cell_type": "code",
      "metadata": {
        "id": "wnq8trCUy-e2",
        "colab_type": "code",
        "colab": {
          "base_uri": "https://localhost:8080/",
          "height": 307
        },
        "outputId": "5f4713cc-ee37-401f-85e8-bdf05cbfa157"
      },
      "source": [
        "customer.plot.scatter(x=\"numEmps\",y=\"raisedAmt\")"
      ],
      "execution_count": 33,
      "outputs": [
        {
          "output_type": "execute_result",
          "data": {
            "text/plain": [
              "<matplotlib.axes._subplots.AxesSubplot at 0x7f30f5dd9080>"
            ]
          },
          "metadata": {
            "tags": []
          },
          "execution_count": 33
        },
        {
          "output_type": "display_data",
          "data": {
            "image/png": "[encoded data removed]",
            "text/plain": [
              "<Figure size 432x288 with 1 Axes>"
            ]
          },
          "metadata": {
            "tags": [],
            "needs_background": "light"
          }
        }
      ]
    },
    {
      "cell_type": "code",
      "metadata": {
        "id": "lKAVfGXEy-oU",
        "colab_type": "code",
        "colab": {}
      },
      "source": [
        "# extra\n",
        "#df.sum(axis=1,skip=True)   #it skips nan values during addition"
      ],
      "execution_count": 0,
      "outputs": []
    },
    {
      "cell_type": "markdown",
      "metadata": {
        "id": "SbxoNjL2DJb1",
        "colab_type": "text"
      },
      "source": [
        "**CROSSTABS**"
      ]
    },
    {
      "cell_type": "code",
      "metadata": {
        "id": "ZkhCTwi0y-bN",
        "colab_type": "code",
        "colab": {}
      },
      "source": [
        "# crosstabs takes two or multiple  columns and find uniqye amony them\n",
        "pd.crosstab(df.age,df.height)  # randomly wrote this"
      ],
      "execution_count": 0,
      "outputs": []
    },
    {
      "cell_type": "code",
      "metadata": {
        "id": "t-2cfNSXy-YU",
        "colab_type": "code",
        "colab": {
          "base_uri": "https://localhost:8080/",
          "height": 359
        },
        "outputId": "06402de9-b9ed-49fe-b1ed-02b734e5031e"
      },
      "source": [
        "#get_dummies()  this function is used to convert categaorical value into dummyvariable(or one hot encoding)\n",
        "list=list('helloworld')\n",
        "pd.get_dummies(list)"
      ],
      "execution_count": 37,
      "outputs": [
        {
          "output_type": "execute_result",
          "data": {
            "text/html": [
              "<div>\n",
              "<style scoped>\n",
              "    .dataframe tbody tr th:only-of-type {\n",
              "        vertical-align: middle;\n",
              "    }\n",
              "\n",
              "    .dataframe tbody tr th {\n",
              "        vertical-align: top;\n",
              "    }\n",
              "\n",
              "    .dataframe thead th {\n",
              "        text-align: right;\n",
              "    }\n",
              "</style>\n",
              "<table border=\"1\" class=\"dataframe\">\n",
              "  <thead>\n",
              "    <tr style=\"text-align: right;\">\n",
              "      <th></th>\n",
              "      <th>d</th>\n",
              "      <th>e</th>\n",
              "      <th>h</th>\n",
              "      <th>l</th>\n",
              "      <th>o</th>\n",
              "      <th>r</th>\n",
              "      <th>w</th>\n",
              "    </tr>\n",
              "  </thead>\n",
              "  <tbody>\n",
              "    <tr>\n",
              "      <th>0</th>\n",
              "      <td>0</td>\n",
              "      <td>0</td>\n",
              "      <td>1</td>\n",
              "      <td>0</td>\n",
              "      <td>0</td>\n",
              "      <td>0</td>\n",
              "      <td>0</td>\n",
              "    </tr>\n",
              "    <tr>\n",
              "      <th>1</th>\n",
              "      <td>0</td>\n",
              "      <td>1</td>\n",
              "      <td>0</td>\n",
              "      <td>0</td>\n",
              "      <td>0</td>\n",
              "      <td>0</td>\n",
              "      <td>0</td>\n",
              "    </tr>\n",
              "    <tr>\n",
              "      <th>2</th>\n",
              "      <td>0</td>\n",
              "      <td>0</td>\n",
              "      <td>0</td>\n",
              "      <td>1</td>\n",
              "      <td>0</td>\n",
              "      <td>0</td>\n",
              "      <td>0</td>\n",
              "    </tr>\n",
              "    <tr>\n",
              "      <th>3</th>\n",
              "      <td>0</td>\n",
              "      <td>0</td>\n",
              "      <td>0</td>\n",
              "      <td>1</td>\n",
              "      <td>0</td>\n",
              "      <td>0</td>\n",
              "      <td>0</td>\n",
              "    </tr>\n",
              "    <tr>\n",
              "      <th>4</th>\n",
              "      <td>0</td>\n",
              "      <td>0</td>\n",
              "      <td>0</td>\n",
              "      <td>0</td>\n",
              "      <td>1</td>\n",
              "      <td>0</td>\n",
              "      <td>0</td>\n",
              "    </tr>\n",
              "    <tr>\n",
              "      <th>5</th>\n",
              "      <td>0</td>\n",
              "      <td>0</td>\n",
              "      <td>0</td>\n",
              "      <td>0</td>\n",
              "      <td>0</td>\n",
              "      <td>0</td>\n",
              "      <td>1</td>\n",
              "    </tr>\n",
              "    <tr>\n",
              "      <th>6</th>\n",
              "      <td>0</td>\n",
              "      <td>0</td>\n",
              "      <td>0</td>\n",
              "      <td>0</td>\n",
              "      <td>1</td>\n",
              "      <td>0</td>\n",
              "      <td>0</td>\n",
              "    </tr>\n",
              "    <tr>\n",
              "      <th>7</th>\n",
              "      <td>0</td>\n",
              "      <td>0</td>\n",
              "      <td>0</td>\n",
              "      <td>0</td>\n",
              "      <td>0</td>\n",
              "      <td>1</td>\n",
              "      <td>0</td>\n",
              "    </tr>\n",
              "    <tr>\n",
              "      <th>8</th>\n",
              "      <td>0</td>\n",
              "      <td>0</td>\n",
              "      <td>0</td>\n",
              "      <td>1</td>\n",
              "      <td>0</td>\n",
              "      <td>0</td>\n",
              "      <td>0</td>\n",
              "    </tr>\n",
              "    <tr>\n",
              "      <th>9</th>\n",
              "      <td>1</td>\n",
              "      <td>0</td>\n",
              "      <td>0</td>\n",
              "      <td>0</td>\n",
              "      <td>0</td>\n",
              "      <td>0</td>\n",
              "      <td>0</td>\n",
              "    </tr>\n",
              "  </tbody>\n",
              "</table>\n",
              "</div>"
            ],
            "text/plain": [
              "   d  e  h  l  o  r  w\n",
              "0  0  0  1  0  0  0  0\n",
              "1  0  1  0  0  0  0  0\n",
              "2  0  0  0  1  0  0  0\n",
              "3  0  0  0  1  0  0  0\n",
              "4  0  0  0  0  1  0  0\n",
              "5  0  0  0  0  0  0  1\n",
              "6  0  0  0  0  1  0  0\n",
              "7  0  0  0  0  0  1  0\n",
              "8  0  0  0  1  0  0  0\n",
              "9  1  0  0  0  0  0  0"
            ]
          },
          "metadata": {
            "tags": []
          },
          "execution_count": 37
        }
      ]
    },
    {
      "cell_type": "code",
      "metadata": {
        "id": "JVj8X2ZKy-Wt",
        "colab_type": "code",
        "colab": {}
      },
      "source": [
        ""
      ],
      "execution_count": 0,
      "outputs": []
    },
    {
      "cell_type": "code",
      "metadata": {
        "id": "BVLHvEKBy-Po",
        "colab_type": "code",
        "colab": {}
      },
      "source": [
        ""
      ],
      "execution_count": 0,
      "outputs": []
    },
    {
      "cell_type": "markdown",
      "metadata": {
        "id": "kke631ZLI-51",
        "colab_type": "text"
      },
      "source": [
        "**MATPLOTLIB**"
      ]
    },
    {
      "cell_type": "code",
      "metadata": {
        "id": "R7Mr8JZqy-KK",
        "colab_type": "code",
        "colab": {}
      },
      "source": [
        "import matplotlib as plt\n",
        "from matplotlib import pyplot as plt"
      ],
      "execution_count": 0,
      "outputs": []
    },
    {
      "cell_type": "code",
      "metadata": {
        "id": "KxJx7izvy-EJ",
        "colab_type": "code",
        "colab": {
          "base_uri": "https://localhost:8080/",
          "height": 281
        },
        "outputId": "299b4de6-41fd-4d0c-860f-0b3c6623643b"
      },
      "source": [
        "import numpy as np\n",
        "x=np.linspace(-3*np.pi,3*np.pi,300)    # (start,end,return this much number)\n",
        "y=np.divide(np.sin(x),x)   # it takes two element a and b and do element wise dvision\n",
        "plt.title('sunil')\n",
        "plt.plot(x,y) # x is independent variable, y is dependent variable\n",
        "plt.show()\n"
      ],
      "execution_count": 48,
      "outputs": [
        {
          "output_type": "display_data",
          "data": {
            "image/png": "[encoded data removed]",
            "text/plain": [
              "<Figure size 432x288 with 1 Axes>"
            ]
          },
          "metadata": {
            "tags": [],
            "needs_background": "light"
          }
        }
      ]
    },
    {
      "cell_type": "code",
      "metadata": {
        "id": "6sJxvHNFyuuT",
        "colab_type": "code",
        "colab": {}
      },
      "source": [
        "# we can use subplot also\n"
      ],
      "execution_count": 0,
      "outputs": []
    },
    {
      "cell_type": "code",
      "metadata": {
        "id": "LMtlxVRmOEVH",
        "colab_type": "code",
        "colab": {
          "base_uri": "https://localhost:8080/",
          "height": 119
        },
        "outputId": "4eecdd44-d5b0-487b-87e4-d435167da9e5"
      },
      "source": [
        "!git clone https://github.com/sunilom563/SHALA2020.git"
      ],
      "execution_count": 50,
      "outputs": [
        {
          "output_type": "stream",
          "text": [
            "Cloning into 'SHALA2020'...\n",
            "remote: Enumerating objects: 3, done.\u001b[K\n",
            "remote: Counting objects: 100% (3/3), done.\u001b[K\n",
            "remote: Compressing objects: 100% (3/3), done.\u001b[K\n",
            "remote: Total 3 (delta 0), reused 0 (delta 0), pack-reused 0\n",
            "Unpacking objects: 100% (3/3), done.\n"
          ],
          "name": "stdout"
        }
      ]
    },
    {
      "cell_type": "code",
      "metadata": {
        "id": "E2W2U6yYOEY1",
        "colab_type": "code",
        "colab": {}
      },
      "source": [
        ""
      ],
      "execution_count": 0,
      "outputs": []
    },
    {
      "cell_type": "code",
      "metadata": {
        "id": "ICVT06TEOEgM",
        "colab_type": "code",
        "colab": {}
      },
      "source": [
        ""
      ],
      "execution_count": 0,
      "outputs": []
    },
    {
      "cell_type": "code",
      "metadata": {
        "id": "tDtQbSEeOEKu",
        "colab_type": "code",
        "colab": {}
      },
      "source": [
        ""
      ],
      "execution_count": 0,
      "outputs": []
    },
    {
      "cell_type": "code",
      "metadata": {
        "id": "JP96bRVgOD6B",
        "colab_type": "code",
        "colab": {}
      },
      "source": [
        ""
      ],
      "execution_count": 0,
      "outputs": []
    }
  ]
}